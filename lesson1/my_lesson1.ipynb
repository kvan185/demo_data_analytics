{
  "cells": [
    {
      "cell_type": "markdown",
      "metadata": {},
      "source": [
        "# \"Thuc hanh tri tue nhan tao Buoi 1\"\n",
        "## \"Noi dung thuc hanh\""
      ]
    },
    {
      "cell_type": "markdown",
      "metadata": {},
      "source": [
        "### In chu ra man hinh"
      ]
    },
    {
      "cell_type": "code",
      "execution_count": 23,
      "metadata": {},
      "outputs": [
        {
          "name": "stdout",
          "output_type": "stream",
          "text": [
            "Hello, Python World!\n"
          ]
        }
      ],
      "source": [
        "# lenh 1 - xuat chu\n",
        "print('Hello, Python World!')"
      ]
    },
    {
      "cell_type": "markdown",
      "metadata": {},
      "source": [
        "# Ket Thuc"
      ]
    },
    {
      "cell_type": "code",
      "execution_count": 4,
      "id": "b6fbbe08",
      "metadata": {},
      "outputs": [
        {
          "name": "stdout",
          "output_type": "stream",
          "text": [
            "Calculator Basic\n",
            "c = 30 + 15 = 45\n"
          ]
        }
      ],
      "source": [
        "%run ex1_calc.py"
      ]
    },
    {
      "cell_type": "code",
      "execution_count": 2,
      "id": "7aba711a",
      "metadata": {},
      "outputs": [
        {
          "name": "stdout",
          "output_type": "stream",
          "text": [
            "Chu vi hình tròn = 94.25\n",
            "Diện tích hình tròn = 706.86\n",
            "math.pi =3.141592653589793\n"
          ]
        }
      ],
      "source": [
        "%run ex3_circle.py"
      ]
    }
  ],
  "metadata": {
    "kernelspec": {
      "display_name": "Python 3",
      "language": "python",
      "name": "python3"
    },
    "language_info": {
      "codemirror_mode": {
        "name": "ipython",
        "version": 3
      },
      "file_extension": ".py",
      "mimetype": "text/x-python",
      "name": "python",
      "nbconvert_exporter": "python",
      "pygments_lexer": "ipython3",
      "version": "3.13.3"
    }
  },
  "nbformat": 4,
  "nbformat_minor": 5
}
