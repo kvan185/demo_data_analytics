{
 "cells": [
  {
   "cell_type": "markdown",
   "id": "343c77cc",
   "metadata": {},
   "source": [
    "# **PHÂN TÍCH KHÁM PHÁ VỀ BỆNH ĐÁI THÁO ĐƯỜNG**"
   ]
  },
  {
   "cell_type": "markdown",
   "id": "2c483a58",
   "metadata": {},
   "source": [
    "# Mô tả tập dữ liệu & thống kê mô tả"
   ]
  },
  {
   "cell_type": "markdown",
   "id": "39dd553a",
   "metadata": {},
   "source": [
    "Đọc tập dữ liệu"
   ]
  },
  {
   "cell_type": "code",
   "execution_count": null,
   "id": "fa040dcd",
   "metadata": {
    "vscode": {
     "languageId": "plaintext"
    }
   },
   "outputs": [],
   "source": [
    "# importing pandas, and other necessary modules\n",
    "import pandas as pd\n",
    "import matplotlib.pyplot as plt\n",
    "import seaborn as sns\n",
    "import numpy as np"
   ]
  },
  {
   "cell_type": "code",
   "execution_count": null,
   "id": "ce8373d4",
   "metadata": {
    "vscode": {
     "languageId": "plaintext"
    }
   },
   "outputs": [],
   "source": [
    "# Đường dẫn tới file CSV\n",
    "file_path = \"pima-indians-diabetes.csv\"\n",
    "\n",
    "# Đọc file CSV\n",
    "df = pd.read_csv(file_path)"
   ]
  },
  {
   "cell_type": "markdown",
   "id": "1a2e029d",
   "metadata": {},
   "source": [
    "## Mô tả tập dữ liệu"
   ]
  },
  {
   "cell_type": "code",
   "execution_count": null,
   "id": "7a768e6e",
   "metadata": {
    "vscode": {
     "languageId": "plaintext"
    }
   },
   "outputs": [],
   "source": [
    "# In 5 dòng đầu tiên\n",
    "df.head()"
   ]
  },
  {
   "cell_type": "markdown",
   "id": "be651cc4",
   "metadata": {},
   "source": [
    "# Kích thước tập dữ liệu\n",
    "print(df.shape)"
   ]
  },
  {
   "cell_type": "code",
   "execution_count": null,
   "id": "2c829dc8",
   "metadata": {
    "vscode": {
     "languageId": "plaintext"
    }
   },
   "outputs": [],
   "source": [
    "# Thông tin tổng quan về tập dữ liệu\n",
    "df.info()"
   ]
  },
  {
   "cell_type": "code",
   "execution_count": null,
   "id": "74a404a9",
   "metadata": {
    "vscode": {
     "languageId": "plaintext"
    }
   },
   "outputs": [],
   "source": [
    "# Kiểm tra giá trị null\n",
    "df.isnull().sum()"
   ]
  },
  {
   "cell_type": "markdown",
   "id": "5f13f01a",
   "metadata": {},
   "source": [
    "# KẾT THÚC"
   ]
  }
 ],
 "metadata": {
  "language_info": {
   "name": "python"
  }
 },
 "nbformat": 4,
 "nbformat_minor": 5
}
