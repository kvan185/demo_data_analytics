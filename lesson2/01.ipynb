{
 "cells": [
  {
   "cell_type": "markdown",
   "id": "35865310",
   "metadata": {},
   "source": [
    "# Khoa học Dữ liệu và Cách mạng Công nghiệp lần thứ Tư"
   ]
  },
  {
   "cell_type": "markdown",
   "id": "c8fe1312",
   "metadata": {},
   "source": [
    "## Cách mạng công nghiệp lần thứ tư?"
   ]
  },
  {
   "cell_type": "markdown",
   "id": "13f61e32",
   "metadata": {},
   "source": [
    "### Đặc trưng của một cuộc cách mạng công nghiệp:"
   ]
  },
  {
   "cell_type": "markdown",
   "id": "1ee8a8e2",
   "metadata": {},
   "source": [
    "Có đột phá của khoa học và công nghệ"
   ]
  },
  {
   "cell_type": "markdown",
   "id": "4f1e2b08",
   "metadata": {},
   "source": [
    "Tạo ra sự thay đổi về bản chất của sản xuất"
   ]
  },
  {
   "cell_type": "markdown",
   "id": "fc43df29",
   "metadata": {},
   "source": [
    "## Cách mạng số hoá và cyber-­‐physical systems"
   ]
  },
  {
   "cell_type": "markdown",
   "id": "4663f51b",
   "metadata": {},
   "source": [
    "‘Phiên bản số’ các thực thể: Biểu\n",
    "diễn các thực thể bằng ‘0’ và ‘1’\n",
    "trên máy tính (digitalization)"
   ]
  },
  {
   "cell_type": "markdown",
   "id": "1d1c8099",
   "metadata": {},
   "source": [
    "Thí dụ: ô-­‐tô, bệnh án điện tử..."
   ]
  },
  {
   "cell_type": "markdown",
   "id": "e2bc24fa",
   "metadata": {},
   "source": [
    "Hệ kết nối không gian số-­‐thực thể\n",
    "(cyber-­‐physical system): hệ kết nối\n",
    "các thực thể và ‘phiên bản số’ của\n",
    "chúng."
   ]
  },
  {
   "cell_type": "markdown",
   "id": "52a2c91a",
   "metadata": {},
   "source": [
    "### London CCTV (Closed circuit TV)"
   ]
  },
  {
   "cell_type": "markdown",
   "id": "4bdd488e",
   "metadata": {},
   "source": [
    "500 triệu bảng (video surveillance)"
   ]
  },
  {
   "cell_type": "markdown",
   "id": "f1a876d7",
   "metadata": {},
   "source": [
    "Cung cấp 95% thông tin về các vụ phạm tội"
   ]
  },
  {
   "cell_type": "markdown",
   "id": "7dedea92",
   "metadata": {},
   "source": [
    "Bắt nhầm người Hàn quốc: từ 60m, 45 độ nghiêng"
   ]
  },
  {
   "cell_type": "markdown",
   "id": "8fa625f1",
   "metadata": {},
   "source": [
    "### Data-­‐intensive science: a shift in science"
   ]
  },
  {
   "cell_type": "markdown",
   "id": "139f85d0",
   "metadata": {},
   "source": [
    "Làm khoa học dựa vào dữ liệu, nhằm tìm tri thức từ dữ liệu."
   ]
  },
  {
   "cell_type": "markdown",
   "id": "eaf12455",
   "metadata": {},
   "source": [
    "Cách truyền thống nhằm kiểm chứng các giả thiết có được từ trên tri thức đã biết."
   ]
  },
  {
   "cell_type": "markdown",
   "id": "f18319e1",
   "metadata": {},
   "source": [
    "### Công nghệ số (digital technology)"
   ]
  },
  {
   "cell_type": "markdown",
   "id": "ba477a5d",
   "metadata": {},
   "source": [
    "Số hoá (thí dụ máy ảnh, in ấn, truyền hình...)"
   ]
  },
  {
   "cell_type": "markdown",
   "id": "1939ccea",
   "metadata": {},
   "source": [
    "Xử lý dữ liệu được số hoá"
   ]
  },
  {
   "cell_type": "markdown",
   "id": "0d67edf0",
   "metadata": {},
   "source": [
    "### Big data là gì?"
   ]
  },
  {
   "cell_type": "markdown",
   "id": "f52bdd71",
   "metadata": {},
   "source": [
    "Dữ liệu lớn nói về các tập dữ liệu rất lớn và/hoặc rất phức tạp, vượt quá khả năng xử lý của các kỹ thuật IT truyền thống."
   ]
  },
  {
   "cell_type": "markdown",
   "id": "329bbd8f",
   "metadata": {},
   "source": [
    "### Artificial Intelligence – Trí tuệ nhân tạo"
   ]
  },
  {
   "cell_type": "markdown",
   "id": "b7908a49",
   "metadata": {},
   "source": [
    "Làm cho máy có trí thông minh (lập luận, hiểu ngôn ngữ, tự học)."
   ]
  },
  {
   "cell_type": "markdown",
   "id": "46b9795f",
   "metadata": {},
   "source": [
    "Phép thử Turing là một cách để trả lời ‘máy tính có biết nghĩ không?’"
   ]
  },
  {
   "cell_type": "markdown",
   "id": "08335b92",
   "metadata": {},
   "source": [
    "AlphaGo, hiểu ngôn ngữ, tiếng nói, chẩn đoán ung thư, ô-­‐tô tự lái..."
   ]
  },
  {
   "cell_type": "markdown",
   "id": "4cc9b255",
   "metadata": {},
   "source": [
    "Hầu hết thành công gần đây của AI dựa vào học máy (machine learning)."
   ]
  },
  {
   "cell_type": "markdown",
   "id": "5e51cda0",
   "metadata": {},
   "source": [
    "### Trí tuệ nhân tạo dựa vào học máy"
   ]
  },
  {
   "cell_type": "markdown",
   "id": "62873b8e",
   "metadata": {},
   "source": [
    "“Many developers of AI systems now recognize that, for many applications, it can be far easier to train a system by showing it examples of desired input-­‐output behavior than to program it manually by anticipating the desired response for all possible inputs”"
   ]
  },
  {
   "cell_type": "markdown",
   "id": "0d2392ea",
   "metadata": {},
   "source": [
    "“Rất nhiều người làm các hệ AI nay đã nhận ra rằng, đối với rất nhiều ứng dụng, việc huấn luyện một hệ thống từ các thí dụ đầu vào-­‐đầu ra để có\n",
    "quyết định hành động là dễ hơn rất nhiều việc soạn sẵn các quyết định mong muốn cho mọi tình huống có thể xảy ra.\""
   ]
  },
  {
   "cell_type": "markdown",
   "id": "27425074",
   "metadata": {},
   "source": [
    "### Ta nên và có thể đi trong CMCN4 thế nào?"
   ]
  },
  {
   "cell_type": "markdown",
   "id": "3c92faa2",
   "metadata": {},
   "source": [
    "Nông nghiệp và du lịch thông minh? Giáo dục, môi trường và y tế thông minh? Lựa chọn và làm chủ những công nghệ số và các công nghệ cao cần cho mình?"
   ]
  },
  {
   "cell_type": "markdown",
   "id": "a90d6d92",
   "metadata": {},
   "source": [
    "Ai nuôi trồng những ’cây và con’ như ta? Sản lượng bao nhiêu? Nhu cầu thị trường? Dịch chuyển trồng lúa sang ‘cây con’ khác ở đâu? Bao nhiêu? Giá trị hơn bao nhiêu?"
   ]
  },
  {
   "cell_type": "markdown",
   "id": "e3bbe2d7",
   "metadata": {},
   "source": [
    "Số hoá được sông ngòi, tính toán và mô phỏng được các tình huống lũ lụt? Làm e-­‐health thế nào?"
   ]
  },
  {
   "cell_type": "markdown",
   "id": "a653c317",
   "metadata": {},
   "source": [
    "Chiến lược và chính sách quốc gia, thay đổi của các doanh nghiệp, lực lượng tinh hoa của KH&CN (CMCN4 không thể làm chỉ bởi ý chí mà phải bằng tri thức)."
   ]
  },
  {
   "cell_type": "markdown",
   "id": "9141f7d8",
   "metadata": {},
   "source": [
    "Vai trò to lớn của toán học."
   ]
  },
  {
   "cell_type": "markdown",
   "id": "99975357",
   "metadata": {},
   "source": [
    "## Khoa học dữ liệu là gì?"
   ]
  },
  {
   "cell_type": "markdown",
   "id": "06efa017",
   "metadata": {},
   "source": [
    "### Data, information, knowledge"
   ]
  },
  {
   "cell_type": "markdown",
   "id": "5e92f97c",
   "metadata": {},
   "source": [
    "### Vài định nghĩa về Khoa học dữ liệu?"
   ]
  },
  {
   "cell_type": "markdown",
   "id": "41bf95b8",
   "metadata": {},
   "source": [
    "There is not yet a definition agreed by all."
   ]
  },
  {
   "cell_type": "markdown",
   "id": "93e4c6b3",
   "metadata": {},
   "source": [
    "Some examples"
   ]
  },
  {
   "cell_type": "markdown",
   "id": "2ac93451",
   "metadata": {},
   "source": [
    "### Khoa học dữ liệu"
   ]
  },
  {
   "cell_type": "markdown",
   "id": "9053bbaa",
   "metadata": {},
   "source": [
    "“Ta chỉ tin vào Thượng đế. Mọi thứ khác phải dựa vào dữ liệu”"
   ]
  },
  {
   "cell_type": "markdown",
   "id": "ed4d1382",
   "metadata": {},
   "source": [
    "### How does people collect data?"
   ]
  },
  {
   "cell_type": "markdown",
   "id": "7f9c2680",
   "metadata": {},
   "source": [
    "Dữ liệu chính là giá trị của các thuộc tính (features, attributes, properties, variables) của các đối tượng, thu được do quan sát, đo đạc và thu thập (số hoá)."
   ]
  },
  {
   "cell_type": "markdown",
   "id": "6c22cfa2",
   "metadata": {},
   "source": [
    "Hai cách thu thập dữ liệu: Lấy mẫu ngẫu nhiên và Thu mọi dữ liệu có được"
   ]
  },
  {
   "cell_type": "markdown",
   "id": "9303e939",
   "metadata": {},
   "source": [
    "### Thống kê -­‐ Statistics"
   ]
  },
  {
   "cell_type": "markdown",
   "id": "9806741f",
   "metadata": {},
   "source": [
    "Thống kê: Phân tích, khái quát, ra quyết định từ dữ liệu."
   ]
  },
  {
   "cell_type": "markdown",
   "id": "016fa0c8",
   "metadata": {},
   "source": [
    "Nội dung chính: Thống kê mô tả (descriptive statistics) và Thống kê suy diễn (inferential statistics)"
   ]
  },
  {
   "cell_type": "markdown",
   "id": "57ce058d",
   "metadata": {},
   "source": [
    "Dữ liệu: Thu thập để trả lời những câu hỏi định trước; Phần lớn là dữ liệu số, ít dữ liệu hình thức."
   ]
  },
  {
   "cell_type": "markdown",
   "id": "e03a0a78",
   "metadata": {},
   "source": [
    "Phát triển cho tập dữ liệu nhỏ, phân tích từng biến ngẫu nhiên riêng lẻ, trước khi có máy tính."
   ]
  },
  {
   "cell_type": "markdown",
   "id": "52490e6a",
   "metadata": {},
   "source": [
    "### Phân tích dữ liệu nhiều (Multivariate analysis)"
   ]
  },
  {
   "cell_type": "markdown",
   "id": "30b949b5",
   "metadata": {},
   "source": [
    "Phân tích quan hệ của nhiều biến trên máy tính"
   ]
  },
  {
   "cell_type": "markdown",
   "id": "3d243cae",
   "metadata": {},
   "source": [
    "Phân tích khẳng định (CDA, confirmatory data analysis) kiểm định giả thiết"
   ]
  },
  {
   "cell_type": "markdown",
   "id": "bad06409",
   "metadata": {},
   "source": [
    "Phân tích khám phá (EDA, exploratory data analysis) dùng dữ liệu tạo ra các giả thiết. Nhiều phương pháp: Factor analysis, PCA, Linear discriminant analysis, Regression analysis, Cluster analysis"
   ]
  },
  {
   "cell_type": "markdown",
   "id": "5d6277da",
   "metadata": {},
   "source": [
    "Đặc điểm: Có nền tảng toán học sâu sắc và vững chắc; Thay đổi với CNTT, học máy/khai phá dữ liệu"
   ]
  },
  {
   "cell_type": "markdown",
   "id": "cb57fa21",
   "metadata": {},
   "source": [
    "### Machine learning"
   ]
  },
  {
   "cell_type": "markdown",
   "id": "dc3191f9",
   "metadata": {},
   "source": [
    "“Field of study that gives computers the ability to learn without being explicitly programmed” (Arthur Samuel, 1959)."
   ]
  },
  {
   "cell_type": "markdown",
   "id": "f276302c",
   "metadata": {},
   "source": [
    "“Machine learning sits at the crossroads of computer science, statistics and a variety of other disciplines concerned with automatics improvement over time, and inference and decision-­‐making under uncertainty.” (Jordan & Michell, 2015)"
   ]
  },
  {
   "cell_type": "markdown",
   "id": "e7bbdb40",
   "metadata": {},
   "source": [
    "### Statistics vs. Machine Learning"
   ]
  },
  {
   "cell_type": "markdown",
   "id": "a8f9cf8b",
   "metadata": {},
   "source": [
    "#### Statistics: "
   ]
  },
  {
   "cell_type": "markdown",
   "id": "fc9fc6d8",
   "metadata": {},
   "source": [
    "Suy diễn thống kê (ước lượng, kiểm định giả thiết)."
   ]
  },
  {
   "cell_type": "markdown",
   "id": "b815d55c",
   "metadata": {},
   "source": [
    "Ban đầu mô hình cho bài toán có số chiều nhỏ, ở dạng số."
   ]
  },
  {
   "cell_type": "markdown",
   "id": "fb2d6789",
   "metadata": {},
   "source": [
    "Khó thay đổi ‘văn hóa’, thích nghi với môi trường tính toán."
   ]
  },
  {
   "cell_type": "markdown",
   "id": "b4fb20e3",
   "metadata": {},
   "source": [
    "Mở rộng sang học máy."
   ]
  },
  {
   "cell_type": "markdown",
   "id": "c3c54309",
   "metadata": {},
   "source": [
    "#### Machine learning"
   ]
  },
  {
   "cell_type": "markdown",
   "id": "00af2d19",
   "metadata": {},
   "source": [
    "Dự đoán với dữ liệu hình thức."
   ]
  },
  {
   "cell_type": "markdown",
   "id": "ac29cf7a",
   "metadata": {},
   "source": [
    "Bắt đầu với các thuật toán trực cảm (heuristics)."
   ]
  },
  {
   "cell_type": "markdown",
   "id": "96b6a6e7",
   "metadata": {},
   "source": [
    "Dần gắn với thống kê, có mô hình toán học cho các thuật toán."
   ]
  },
  {
   "cell_type": "markdown",
   "id": "a931ed77",
   "metadata": {},
   "source": [
    "## Nguyên lý và phương pháp của khoa học dữ liệu"
   ]
  },
  {
   "cell_type": "markdown",
   "id": "7ae6b4b7",
   "metadata": {},
   "source": [
    "Principle = a basic idea or rule that explains or controls how something happens or works (Cambridge Dict.) Ý tưởng cơ bản hoặc các nguyên tắc để giải thích tại sao mọi sự lại xảy ra hoặc để điều khiển sự vận hành."
   ]
  },
  {
   "cell_type": "markdown",
   "id": "8f65eea1",
   "metadata": {},
   "source": [
    "### Probabilistic graphical models"
   ]
  },
  {
   "cell_type": "markdown",
   "id": "e5bbae88",
   "metadata": {},
   "source": [
    "#### Sampling inference (stochastic methods)"
   ]
  },
  {
   "cell_type": "markdown",
   "id": "0d989072",
   "metadata": {},
   "source": [
    "Markov Chain Monte Carlo (MCMC) cho kết quả dưới dạng một tập các mẫu (samples)\n",
    "tìm được từ phân bố hậu nghiệm (posterior distribution)."
   ]
  },
  {
   "cell_type": "markdown",
   "id": "aa83d0bb",
   "metadata": {},
   "source": [
    "#### Variational inference (deterministic methods)"
   ]
  },
  {
   "cell_type": "markdown",
   "id": "b2dbf149",
   "metadata": {},
   "source": [
    "Tìm một phần tử tối ưu của một họ các phân bố xấp xỉ bởi cực tiểu hoá một tiêu chuẩn thích hợp đo sự khác nhau giữa các phân bố xấp xỉ và phân bố hậu nghiệm chính xác."
   ]
  },
  {
   "cell_type": "markdown",
   "id": "833c8e5a",
   "metadata": {},
   "source": [
    "### Take home message"
   ]
  },
  {
   "cell_type": "markdown",
   "id": "76864f0b",
   "metadata": {},
   "source": [
    "Bức tranh tổng thể về khoa học dữ liệu, các khái niệm và nguyên lý cơ bản."
   ]
  },
  {
   "cell_type": "markdown",
   "id": "76628dc4",
   "metadata": {},
   "source": [
    "Khoa học dữ liệu nằm ở trung tâm của công nghệ số, của các đột phá của trí tuệ nhân tạo à vai trò trung tâm trong CMCN4."
   ]
  },
  {
   "cell_type": "markdown",
   "id": "304b625c",
   "metadata": {},
   "source": [
    "Với từng người: tinh thần cách tân (innovation) đặt ra những việc làm mới và có ý nghĩa cao cần lời giải của phân tích dữ liệu."
   ]
  },
  {
   "cell_type": "markdown",
   "id": "a862ffa8",
   "metadata": {},
   "source": [
    "Cơ hội và thách thức của toán học và CNTT của Việt Nam, của giới KH&CN. Cơ hội góp phần vào sự phát triển của đất nước?"
   ]
  }
 ],
 "metadata": {
  "kernelspec": {
   "display_name": "Python 3",
   "language": "python",
   "name": "python3"
  },
  "language_info": {
   "codemirror_mode": {
    "name": "ipython",
    "version": 3
   },
   "file_extension": ".py",
   "mimetype": "text/x-python",
   "name": "python",
   "nbconvert_exporter": "python",
   "pygments_lexer": "ipython3",
   "version": "3.13.3"
  }
 },
 "nbformat": 4,
 "nbformat_minor": 5
}
